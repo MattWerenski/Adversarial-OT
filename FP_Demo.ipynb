{
 "cells": [
  {
   "cell_type": "code",
   "execution_count": 27,
   "id": "5556e4b8-0b68-4191-99c3-efbefd19f3ad",
   "metadata": {},
   "outputs": [],
   "source": [
    "import numpy as np\n",
    "import scipy as sp\n",
    "import matplotlib.pyplot as plt\n",
    "import ot"
   ]
  },
  {
   "cell_type": "code",
   "execution_count": 28,
   "id": "9e581f57-ed3c-4383-8655-6b113974b33d",
   "metadata": {},
   "outputs": [],
   "source": [
    "from scipy.spatial.distance import cdist\n",
    "from scipy.spatial.distance import euclidean\n",
    "from scipy.stats import dirichlet, multivariate_normal"
   ]
  },
  {
   "cell_type": "code",
   "execution_count": 29,
   "id": "13e0a61b-e9fb-4431-906c-4db6f7898b70",
   "metadata": {},
   "outputs": [
    {
     "data": {
      "text/plain": [
       "<matplotlib.collections.PathCollection at 0x7f7a52b2f490>"
      ]
     },
     "execution_count": 29,
     "metadata": {},
     "output_type": "execute_result"
    },
    {
     "data": {
      "image/png": "[encoded data removed]",
      "text/plain": [
       "<Figure size 432x288 with 1 Axes>"
      ]
     },
     "metadata": {
      "needs_background": "light"
     },
     "output_type": "display_data"
    }
   ],
   "source": [
    "x1 = multivariate_normal.rvs(size=(12,2)) / 4\n",
    "x2 = multivariate_normal.rvs(size=(12,2)) / 4\n",
    "x3 = multivariate_normal.rvs(size=(12,2)) / 4\n",
    "x4 = multivariate_normal.rvs(size=(12,2)) / 4\n",
    "\n",
    "x1 += np.array([-1.5,-0.5])\n",
    "x2 += np.array([-1.5,0.5])\n",
    "x3 += np.array([1.5,-0.5])\n",
    "x4 += np.array([1.5,0.5])\n",
    "\n",
    "plt.scatter(x1[:,0], x1[:,1])\n",
    "plt.scatter(x2[:,0], x2[:,1])\n",
    "plt.scatter(x3[:,0], x3[:,1])\n",
    "plt.scatter(x4[:,0], x4[:,1])"
   ]
  },
  {
   "cell_type": "code",
   "execution_count": 30,
   "id": "0fc5cc93-f420-4cbe-bc1a-2bd3afa1a29d",
   "metadata": {},
   "outputs": [],
   "source": [
    "def prune(Xs, threshold, distance):\n",
    "    \"\"\"\n",
    "    prune removes all points that are more than the threshold away from every\n",
    "    point in every other color\n",
    "    \n",
    "    :param: list of datasets of points\n",
    "    :param threshold: location of the hard threshold\n",
    "    :param distance: distance function to compute pairwise distances\n",
    "    :return: two datasets, containing non-isolated and isolated points resp.\n",
    "    \"\"\"\n",
    "    \n",
    "    close_Xs = []\n",
    "    far_Xs = []\n",
    "    \n",
    "    # iterate over each class splitting the datasets\n",
    "    for i in range(len(Xs)):\n",
    "        Xi = Xs[i]\n",
    "        \n",
    "        # has_close[i] will be 0 if it has no nearby points, pos. o.w.\n",
    "        has_close = np.zeros(Xi.shape[0])\n",
    "        \n",
    "        # compare against each other class\n",
    "        for j in range(len(Xs)):\n",
    "            if i == j: \n",
    "                continue\n",
    "            \n",
    "            # computes thresholded cost\n",
    "            cost = cdist(Xi,Xs[j], metric=distance) <= threshold*2\n",
    "            \n",
    "            # and adds the indicators \n",
    "            has_close += np.sum(cost, axis=1)\n",
    "            \n",
    "        # convert to True-False\n",
    "        has_close = has_close > 0\n",
    "        close_inds = np.where(has_close)[0]\n",
    "        far_inds = np.where(1-has_close)[0]\n",
    "        \n",
    "        close_Xs += [Xi[close_inds]]\n",
    "        far_Xs += [Xi[far_inds]]\n",
    "        \n",
    "    return close_Xs, far_Xs"
   ]
  },
  {
   "cell_type": "code",
   "execution_count": 31,
   "id": "577adbe4-7b93-4516-af19-b2aeb7cbd27a",
   "metadata": {},
   "outputs": [],
   "source": [
    "def generate_cost(X, Y, threshold, distance, barrier=1):\n",
    "    \"\"\"\n",
    "    generate_cost given a pair of datapoints, gives a soft approximation to\n",
    "    the indicator cost.\n",
    "    \n",
    "    :param X: first dataset of points\n",
    "    :param Y: second dataset of points\n",
    "    :param threshold: location of the soft threshold\n",
    "    :param distance: distance function to compute pairwise distances\n",
    "    :param barrier: parameter determining how hard the threshold should be\n",
    "    :return: cost matrix approximating the indicator \n",
    "    \"\"\"\n",
    "    base_cost = cdist(X,Y, metric=distance)\n",
    "    cost = np.exp(barrier*(base_cost - threshold))\n",
    "    return cost"
   ]
  },
  {
   "cell_type": "code",
   "execution_count": 32,
   "id": "32417dc3-ee8c-4169-8c6a-3cc2323e41f9",
   "metadata": {},
   "outputs": [],
   "source": [
    "def generate_cost_move_far(X, Y, threshold, distance, barrier=1, slope=1):\n",
    "    \"\"\"\n",
    "    generate_cost given a pair of datapoints, gives a soft approximation to\n",
    "    the indicator cost.\n",
    "    \n",
    "    :param X: first dataset of points\n",
    "    :param Y: second dataset of points\n",
    "    :param threshold: location of the soft threshold\n",
    "    :param distance: distance function to compute pairwise distances\n",
    "    :param barrier: parameter determining how hard the threshold should be\n",
    "    :param slope: slope to use to encourage moving far away\n",
    "    :return: cost matrix approximating the indicator \n",
    "    \"\"\"\n",
    "    base_cost = cdist(X,Y, metric=distance)\n",
    "    cost = (np.exp(barrier *(base_cost - threshold)) + 5 * threshold) * (base_cost > threshold) \\\n",
    "        - slope*base_cost * (base_cost <= threshold)\n",
    "    return cost"
   ]
  },
  {
   "cell_type": "code",
   "execution_count": 33,
   "id": "69612e54-6d3d-4da8-a1a6-0fc2e94d508b",
   "metadata": {},
   "outputs": [],
   "source": [
    "def solve_partial_ots(Xs, Xmasses, Y, Ymass, threshold, distance, barrier=1, slope=0):\n",
    "    \"\"\"\n",
    "    solve_partial_ots given a set of source distributions and a shared target\n",
    "    computes the partial transport from each source to the target\n",
    "    \n",
    "    :param Xs: list of dataset of points\n",
    "    :param Xmasses: amount of mass at each point. Xmasses[i] is a ~scalar~\n",
    "    :param Y: second dataset of points\n",
    "    :param Ymass: amount of mass at each point in Y\n",
    "    :param threshold: location of the soft threshold\n",
    "    :param distance: distance function to compute pairwise distances\n",
    "    :param barrier: parameter determining how hard the threshold should be\n",
    "    :param slope: slope for encouraging mass to move far, if this is 0\n",
    "        then the soft barrier cost is used\n",
    "    :return: list of partial couplings\n",
    "    \"\"\"\n",
    "    \n",
    "    gammas = []\n",
    "    for X, mass in zip(Xs, Xmasses):\n",
    "        Xmass = np.ones(X.shape[0]) * mass\n",
    "        if slope == 0:\n",
    "            cost = generate_cost(X, Y, threshold, distance, barrier=barrier)\n",
    "        else:\n",
    "            cost = generate_cost_move_far(X, Y, threshold, distance, barrier=barrier, slope=slope)\n",
    "        gammas += [ot.partial.partial_wasserstein(Xmass, Ymass, cost, m=np.sum(Xmass), nb_dummies=10)]\n",
    "        \n",
    "    return gammas"
   ]
  },
  {
   "cell_type": "code",
   "execution_count": 34,
   "id": "d14ff0f5-3be9-4923-a44c-71ba25b831c9",
   "metadata": {},
   "outputs": [],
   "source": [
    "def solve_partial_ot(X, Xmass, Y, Ymass, threshold, distance, Y_uses, barrier=1, slope=0, reward=0):\n",
    "    \"\"\"\n",
    "    solve_partial_ots given a set of source distributions and a shared target\n",
    "    computes the partial transport from each source to the target\n",
    "    \n",
    "    :param X: dataset of points\n",
    "    :param Xmass\n",
    "    :param Y: second dataset of points\n",
    "    :param Ymass: amount of mass at each point in Y\n",
    "    :param threshold: location of the soft threshold\n",
    "    :param distance: distance function to compute pairwise distances\n",
    "    :param barrier: parameter determining how hard the threshold should be\n",
    "    :param slope: slope for encouraging mass to move far, if this is 0\n",
    "        then the soft barrier cost is used\n",
    "    :return: list of partial couplings\n",
    "    \"\"\"\n",
    "    \n",
    "    Xmass = np.ones(X.shape[0]) * Xmass\n",
    "    if slope == 0:\n",
    "        cost = generate_cost(X, Y, threshold, distance, barrier=barrier)\n",
    "    else:\n",
    "        cost = generate_cost_move_far(X, Y, threshold, distance, barrier=barrier, slope=slope)\n",
    "    cost -= reward * Y_uses.sum(1) # don't add a reward for points beyond threshold.\n",
    "    \n",
    "    gamma = ot.partial.partial_wasserstein(Xmass, Ymass, cost, m=np.sum(Xmass), nb_dummies=10)\n",
    "        \n",
    "    return gamma"
   ]
  },
  {
   "cell_type": "code",
   "execution_count": 35,
   "id": "7a9add38-649e-40ca-91ec-cbc3c52aab28",
   "metadata": {},
   "outputs": [],
   "source": [
    "def update_Y_locations(Xs, Y, gammas, Y_uses=None, interpolation=0.1):\n",
    "    \"\"\"\n",
    "    update_Y_locations moves the locations of the points in Y to the \n",
    "    centroids of the mass being assigned to them\n",
    "    \n",
    "    :param Xs: list of dataset points\n",
    "    :param Y: second dataset of points to be updated\n",
    "    :param gammas: partial couplings\n",
    "    :param Y_uses: 2D boolean array for if Y_uses[i,j] is if the i'th Y point\n",
    "        is used by the j'th color.\n",
    "    :return: updated locations as well as the updated mass assignments\n",
    "    \"\"\"\n",
    "    \n",
    "    # gets the amount of mass assigned to every point summed over\n",
    "    # all of the classes\n",
    "    total_assignment = np.sum(gammas, axis=(0,1))\n",
    "    \n",
    "    # shifts each point used in Y to the average of the points using it\n",
    "    centroids = np.zeros(Y.shape)\n",
    "    for (X,gamma) in zip(Xs, gammas):\n",
    "        centroids += gamma.T @ X\n",
    "    centroids /= total_assignment[:,np.newaxis] + 0.00000001\n",
    "    \n",
    "    # finds how much mass must be placed on each point in order that\n",
    "    # Y dominates the transformed Xs\n",
    "    dominating_mass = np.max(np.sum(gammas, axis=1), axis=0)\n",
    "    \n",
    "    # removes unused points \n",
    "    centroids = (interpolation*centroids + (1-interpolation)*Y)[total_assignment > 0]\n",
    "    dominating_mass = dominating_mass[total_assignment > 0]\n",
    "    \n",
    "    if not Y_uses is None:\n",
    "        new_uses = Y_uses[total_assignment > 0]\n",
    "        return centroids, dominating_mass, new_uses\n",
    "    \n",
    "    return centroids, dominating_mass"
   ]
  },
  {
   "cell_type": "code",
   "execution_count": 36,
   "id": "fb377033-c8cf-4c82-9456-bd5991ee32ec",
   "metadata": {},
   "outputs": [],
   "source": [
    "def generate_initial_Y(Xs, npoints=40):\n",
    "    \"\"\"\n",
    "    generate_initial_Y creates a reasonable set of starting points for the \n",
    "    adversary to work from.\n",
    "    \n",
    "    :param Xs: list of dataset points\n",
    "    :param npoints: number of support points\n",
    "    \"\"\"\n",
    "    \n",
    "    # number of classes and dimension of data\n",
    "    K = len(Xs)\n",
    "    d = Xs[0].shape[1]\n",
    "    \n",
    "    # generates random coordinates to start from\n",
    "    alpha = np.ones(K)\n",
    "    coords = dirichlet.rvs(alpha, size=npoints)\n",
    "    \n",
    "    # each point in Y is a random convex combination of real data points\n",
    "    Y = np.zeros((npoints, d))\n",
    "    for i in range(npoints):\n",
    "        for k in range(K):\n",
    "            Y[i,:] += coords[i,k] * Xs[k][np.random.randint(Xs[k].shape[0]),:]\n",
    "    \n",
    "    return Y"
   ]
  },
  {
   "cell_type": "code",
   "execution_count": 132,
   "id": "6f5d232c-90f8-4ba5-adb7-87df692b86fa",
   "metadata": {},
   "outputs": [],
   "source": [
    "def fixed_point(Xs, threshold, distance, npoints=50, num_iters=25, barrier=1, slope=0):\n",
    "    \"\"\"\n",
    "    fixed_point given a set of measures, runs a fixed point approach to find\n",
    "    the adversarial measure\n",
    "    \n",
    "    :param Xs: list of lists of datapoints, one for each class \n",
    "    :param threshold: location of the soft threshold\n",
    "    :param distance: distance function to compute pairwise distances\n",
    "    :param npoint: number of support points to start the adversary with\n",
    "    :param num_iters: number of fixed point iterations to run for\n",
    "    :param barrier: parameter determining how hard the threshold should be\n",
    "    :param slope: slope for encouraging mass to move far, if this is 0\n",
    "        then the soft barrier cost is used\n",
    "    :return: the support, mass, assignments for the dominating measure\n",
    "        and re-ordered Xs\n",
    "    \"\"\"\n",
    "    \n",
    "    Xmasses = [1 / len(X) for X in Xs]\n",
    "    close_Xs, far_Xs = prune(Xs, threshold, distance)\n",
    "    \n",
    "    # generates the initial setting of Y measure\n",
    "    K = len(Xs)\n",
    "    Y = generate_initial_Y(close_Xs, npoints=npoints)\n",
    "    Ymass = np.ones(npoints) \n",
    "    \n",
    "    # applies the fixed point updates \n",
    "    for i in range(num_iters):\n",
    "        # solve the partial optimal transports\n",
    "        gammas = solve_partial_ots(close_Xs, Xmasses, Y, Ymass, threshold, distance, \\\n",
    "                                   barrier=barrier, slope=slope)\n",
    "        \n",
    "        # and uses those to update the measure\n",
    "        Y,Ymass = update_Y_locations(close_Xs, Y, gammas)\n",
    "        \n",
    "    # rebuilds the Ys with the pruned support added back in\n",
    "    Y = np.concatenate([Y]+far_Xs)\n",
    "    Ymass = np.concatenate([Ymass]+[np.ones(len(cX))*m for cX,m in zip(far_Xs, Xmasses)])\n",
    "    \n",
    "    # rebuilds the gammas with the mass put back in\n",
    "    full_gammas = []\n",
    "    npoints = np.sum([len(X) for X in Xs])\n",
    "    start_index = 1\n",
    "    for k in range(K):\n",
    "        \n",
    "        fg = np.zeros((len(Xs[k]), len(Ymass)))\n",
    "        # copy over the original gamma\n",
    "        fg[0:gammas[k].shape[0], 0:gammas[k].shape[1]] = gammas[k]\n",
    "        \n",
    "        # add in the extra part for far points\n",
    "        start = gammas[k].shape[1]+start_index-1\n",
    "        end = start+len(far_Xs[k])\n",
    "        start_index += len(far_Xs[k])\n",
    "        \n",
    "        fg[len(close_Xs[k]):, start:end] = np.eye(end-start) / len(Xs[k])\n",
    "        \n",
    "        full_gammas += [fg]\n",
    "        \n",
    "    # rebuilds the support of the Xs\n",
    "    rebuild_Xs = [np.concatenate([close_X, far_X]) for close_X, far_X in zip(close_Xs, far_Xs)]\n",
    "    \n",
    "    # the last gammas are useful for figuring out what the source is being moved to.\n",
    "    return Y, Ymass, full_gammas, rebuild_Xs"
   ]
  },
  {
   "cell_type": "code",
   "execution_count": 133,
   "id": "d517f4c9-48e3-4564-a1f1-af43fe045d28",
   "metadata": {},
   "outputs": [],
   "source": [
    "def incentive_fixed_point(Xs, threshold, distance, npoints, num_iters=100, \n",
    "                          barrier=1, slope=0, reward=-1):\n",
    "    \"\"\"\n",
    "    incentive_fixed_point given a set of measures, runs a fixed point approach with \n",
    "    encouragement for using points that are being used by other classes\n",
    "    :param Xs: list of lists of datapoints, one for each class \n",
    "    :param threshold: location of the soft threshold\n",
    "    :param distance: distance function to compute pairwise distances\n",
    "    :param npoint: number of support points to start the adversary with\n",
    "    :param num_iters: number of fixed point iterations to run for\n",
    "    :param barrier: parameter determining how hard the threshold should be\n",
    "    :param slope: slope for encouraging mass to move far, if this is 0\n",
    "        then the soft barrier cost is used\n",
    "    :param reward: amount to reduce the cost by if the point is being used\n",
    "    :return: the support, mass, assignments for the dominating measure\n",
    "        and re-ordered Xs\n",
    "    \"\"\"\n",
    "    \n",
    "    Xmasses = [1/len(X) for X in Xs]\n",
    "    close_Xs, far_Xs = prune(Xs, threshold, distance)\n",
    "    \n",
    "    # generates the initial setting of Y measure\n",
    "    K = len(Xs)\n",
    "    Y = generate_initial_Y(close_Xs, npoints=npoints)\n",
    "    Ymass = np.ones(npoints) \n",
    "    Y_uses = np.zeros((npoints, K))\n",
    "    \n",
    "    # applies the fixed point updates \n",
    "    for i in range(num_iters):\n",
    "        \n",
    "        gammas = []\n",
    "        for j in range(K):\n",
    "            \n",
    "            Y_uses[:,j] = 0\n",
    "            gamma = solve_partial_ot(close_Xs[j], Xmasses[j], Y, Ymass, threshold, distance, Y_uses, \\\n",
    "                                     barrier=barrier, slope=slope, reward=reward)\n",
    "            Y_uses[:,j] = gamma.sum(0) > 0\n",
    "            gammas += [gamma]\n",
    "        \n",
    "        # and uses those to update the measure\n",
    "        Y, Ymass, Y_uses = update_Y_locations(close_Xs, Y, gammas, Y_uses=Y_uses)\n",
    "    \n",
    "    # rebuilds the Ys with the pruned support added back in\n",
    "    Y = np.concatenate([Y]+far_Xs)\n",
    "    Ymass = np.concatenate([Ymass]+[np.ones(len(cX))*m for cX,m in zip(far_Xs, Xmasses)])\n",
    "    \n",
    "    # rebuilds the gammas with the mass put back in\n",
    "    full_gammas = []\n",
    "    npoints = np.sum([len(X) for X in Xs])\n",
    "    start_index = 1\n",
    "    for k in range(K):\n",
    "        \n",
    "        fg = np.zeros((len(Xs[k]), len(Ymass)))\n",
    "        # copy over the original gamma\n",
    "        fg[0:gammas[k].shape[0], 0:gammas[k].shape[1]] = gammas[k]\n",
    "        \n",
    "        # add in the extra part for far points\n",
    "        start = gammas[k].shape[1]+start_index-1\n",
    "        end = start+len(far_Xs[k])\n",
    "        start_index += len(far_Xs[k])\n",
    "        \n",
    "        fg[len(close_Xs[k]):, start:end] = np.eye(end-start) / len(Xs[k])\n",
    "        \n",
    "        full_gammas += [fg]\n",
    "        \n",
    "    # rebuilds the support of the Xs\n",
    "    rebuild_Xs = [np.concatenate([close_X, far_X]) for close_X, far_X in zip(close_Xs, far_Xs)]\n",
    "    \n",
    "    # the last gammas are useful for figuring out what the source is being moved to.\n",
    "    return Y, Ymass, full_gammas, rebuild_Xs"
   ]
  },
  {
   "cell_type": "code",
   "execution_count": 134,
   "id": "997c820c-0320-4bfb-9307-f56ea1f5b72c",
   "metadata": {},
   "outputs": [],
   "source": [
    "def violating_mass(Xs, Y, gammas, threshold, distance):\n",
    "    \"\"\"\n",
    "    violating_mass computes how much mass from the Xs are moved too far to\n",
    "    get to a Y point based on the threshold and the distance function.\n",
    "    \n",
    "    :param Xs: list of lists of datapoints, one for each class \n",
    "    :param Y: support of the barycenter measure\n",
    "    :param threshold: maximum movement distance\n",
    "    :param distance: distance function\n",
    "    :return: total amount of mass across all classes moving to far\n",
    "    \"\"\"\n",
    "    \n",
    "    total_violation = 0\n",
    "    for X,gamma in zip(Xs, gammas):\n",
    "        base_cost = cdist(X,Y, metric=distance)\n",
    "        binary_cost = base_cost > threshold\n",
    "        total_violation += np.sum(binary_cost * gamma)\n",
    "        \n",
    "    return total_violation"
   ]
  },
  {
   "cell_type": "code",
   "execution_count": 137,
   "id": "9858d2e1-95a1-4516-a392-892952a43b62",
   "metadata": {},
   "outputs": [
    {
     "name": "stdout",
     "output_type": "stream",
     "text": [
      "\n",
      " 2.916666666666663\n",
      "0.1666666666666778\n"
     ]
    }
   ],
   "source": [
    "threshold = 0.3\n",
    "Y, Ymass, gammas, Xs = fixed_point(\n",
    "    data, threshold, euclidean,\n",
    "    npoints=50, barrier=3, slope=1.0)\n",
    "#plt.scatter(Y[:,0], Y[:,1])\n",
    "print('\\n',np.sum(Ymass))\n",
    "print(violating_mass(Xs, Y, gammas, threshold, euclidean))"
   ]
  },
  {
   "cell_type": "code",
   "execution_count": 130,
   "id": "f929165f-6004-479c-bbc2-fa0505c2f694",
   "metadata": {},
   "outputs": [
    {
     "data": {
      "text/plain": [
       "<matplotlib.image.AxesImage at 0x7f7a62b14390>"
      ]
     },
     "execution_count": 130,
     "metadata": {},
     "output_type": "execute_result"
    },
    {
     "data": {
      "image/png": "[encoded data removed]",
      "text/plain": [
       "<Figure size 432x288 with 1 Axes>"
      ]
     },
     "metadata": {
      "needs_background": "light"
     },
     "output_type": "display_data"
    }
   ],
   "source": [
    "plt.imshow(gammas[3]+gammas[2]+gammas[1]+gammas[0])"
   ]
  },
  {
   "cell_type": "code",
   "execution_count": 91,
   "id": "3a9728ce-a02b-4c9d-b105-0b7db4b2a3b8",
   "metadata": {},
   "outputs": [
    {
     "data": {
      "text/plain": [
       "(54,)"
      ]
     },
     "execution_count": 91,
     "metadata": {},
     "output_type": "execute_result"
    }
   ],
   "source": [
    "Ymass.shape"
   ]
  },
  {
   "cell_type": "code",
   "execution_count": 47,
   "id": "deb69e0b-efdc-4729-87de-2237b87626c6",
   "metadata": {},
   "outputs": [
    {
     "data": {
      "text/plain": [
       "(12, 2)"
      ]
     },
     "execution_count": 47,
     "metadata": {},
     "output_type": "execute_result"
    }
   ],
   "source": [
    "data[1].shape"
   ]
  },
  {
   "cell_type": "code",
   "execution_count": 14,
   "id": "56b409ff-d4da-4881-93c6-6137f0b20bf3",
   "metadata": {},
   "outputs": [
    {
     "data": {
      "image/png": "[encoded data removed]",
      "text/plain": [
       "<Figure size 432x288 with 1 Axes>"
      ]
     },
     "metadata": {
      "needs_background": "light"
     },
     "output_type": "display_data"
    }
   ],
   "source": [
    "n = 12\n",
    "linspace = np.arange(n)\n",
    "circle = np.vstack([np.cos(linspace / n * 2 * np.pi), np.sin(linspace / n * 2 * np.pi)]).T\n",
    "data = [\n",
    "    circle + np.array([-0.6,-0.6]),\n",
    "    circle + np.array([0.6,-0.6]),\n",
    "    circle + np.array([0.6,0.6]),\n",
    "    circle + np.array([-0.6,0.6]),\n",
    "]\n",
    "for d in data:\n",
    "    plt.scatter(d[:,0],d[:,1])"
   ]
  },
  {
   "cell_type": "code",
   "execution_count": 148,
   "id": "2a51676f-5341-4c7b-aebd-5910a13279bc",
   "metadata": {},
   "outputs": [
    {
     "data": {
      "text/plain": [
       "(24, 2)"
      ]
     },
     "execution_count": 148,
     "metadata": {},
     "output_type": "execute_result"
    }
   ],
   "source": [
    "Y.shape"
   ]
  },
  {
   "cell_type": "code",
   "execution_count": 149,
   "id": "e7965251-1b6b-499f-be04-74e09a9b8be9",
   "metadata": {},
   "outputs": [
    {
     "data": {
      "text/plain": [
       "3.374999999999999"
      ]
     },
     "execution_count": 149,
     "metadata": {},
     "output_type": "execute_result"
    }
   ],
   "source": [
    "Ymass.sum()"
   ]
  },
  {
   "cell_type": "code",
   "execution_count": 257,
   "id": "acee4838-6ffa-4b5f-9beb-ea97ceff4ef0",
   "metadata": {},
   "outputs": [
    {
     "data": {
      "text/plain": [
       "<matplotlib.collections.PathCollection at 0x7ff738313e10>"
      ]
     },
     "execution_count": 257,
     "metadata": {},
     "output_type": "execute_result"
    },
    {
     "data": {
      "image/png": "[encoded data removed]",
      "text/plain": [
       "<Figure size 432x288 with 1 Axes>"
      ]
     },
     "metadata": {
      "needs_background": "light"
     },
     "output_type": "display_data"
    }
   ],
   "source": [
    "for X in close_Xs:\n",
    "    plt.scatter(X[:,0], X[:,1])\n",
    "plt.scatter(Y[:,0], Y[:,1])"
   ]
  },
  {
   "cell_type": "code",
   "execution_count": 158,
   "id": "8722a028-3172-4106-bf5d-2dbc49c95d60",
   "metadata": {},
   "outputs": [
    {
     "data": {
      "text/plain": [
       "array([False, False,  True, False, False, False, False,  True,  True,\n",
       "        True, False,  True, False,  True,  True, False,  True, False,\n",
       "        True, False,  True, False,  True, False])"
      ]
     },
     "execution_count": 158,
     "metadata": {},
     "output_type": "execute_result"
    }
   ],
   "source": [
    "gammas[0].sum(0) > 0"
   ]
  },
  {
   "cell_type": "code",
   "execution_count": null,
   "id": "5ad0c8d2-d390-4ab0-aecf-8979ab51ee50",
   "metadata": {},
   "outputs": [],
   "source": []
  }
 ],
 "metadata": {
  "kernelspec": {
   "display_name": "Python 3 (ipykernel)",
   "language": "python",
   "name": "python3"
  },
  "language_info": {
   "codemirror_mode": {
    "name": "ipython",
    "version": 3
   },
   "file_extension": ".py",
   "mimetype": "text/x-python",
   "name": "python",
   "nbconvert_exporter": "python",
   "pygments_lexer": "ipython3",
   "version": "3.7.13"
  }
 },
 "nbformat": 4,
 "nbformat_minor": 5
}
