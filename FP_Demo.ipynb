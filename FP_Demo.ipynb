{
 "cells": [
  {
   "cell_type": "code",
   "execution_count": 9,
   "id": "5556e4b8-0b68-4191-99c3-efbefd19f3ad",
   "metadata": {},
   "outputs": [],
   "source": [
    "import numpy as np\n",
    "import scipy as sp\n",
    "import matplotlib.pyplot as plt\n",
    "import ot"
   ]
  },
  {
   "cell_type": "code",
   "execution_count": 10,
   "id": "9e581f57-ed3c-4383-8655-6b113974b33d",
   "metadata": {},
   "outputs": [],
   "source": [
    "from scipy.spatial.distance import cdist\n",
    "from scipy.spatial.distance import euclidean\n",
    "from scipy.stats import dirichlet"
   ]
  },
  {
   "cell_type": "code",
   "execution_count": 11,
   "id": "577adbe4-7b93-4516-af19-b2aeb7cbd27a",
   "metadata": {},
   "outputs": [],
   "source": [
    "def generate_cost(X, Y, threshold, distance, barrier=1):\n",
    "    \"\"\"\n",
    "    generate_cost given a pair of datapoints, gives a soft approximation to\n",
    "    the indicator cost.\n",
    "    \n",
    "    :param X: first dataset of points\n",
    "    :param Y: second dataset of points\n",
    "    :param threshold: location of the soft threshold\n",
    "    :param distance: distance function to compute pairwise distances\n",
    "    :param barrier: parameter determining how hard the threshold should be\n",
    "    :return: cost matrix approximating the indicator \n",
    "    \"\"\"\n",
    "    base_cost = cdist(X,Y, metric=distance)\n",
    "    cost = np.exp(barrier*(base_cost - threshold))\n",
    "    return cost"
   ]
  },
  {
   "cell_type": "code",
   "execution_count": 12,
   "id": "69612e54-6d3d-4da8-a1a6-0fc2e94d508b",
   "metadata": {},
   "outputs": [],
   "source": [
    "def solve_partial_ots(Xs, Y, Ymass, threshold, distance, barrier=1):\n",
    "    \"\"\"\n",
    "    solve_partial_ots given a set of source distributions and a shared target\n",
    "    computes the partial transport from each source to the target\n",
    "    \n",
    "    :param Xs: list of dataset of points\n",
    "    :param Y: second dataset of points\n",
    "    :param Ymass: amount of mass at each point in Y\n",
    "    :param threshold: location of the soft threshold\n",
    "    :param distance: distance function to compute pairwise distances\n",
    "    :param barrier: parameter determining how hard the threshold should be\n",
    "    :return: list of partial couplings\n",
    "    \"\"\"\n",
    "    \n",
    "    gammas = []\n",
    "    for X in Xs:\n",
    "        Xmass = np.ones(X.shape[0]) / X.shape[0]\n",
    "        cost = generate_cost(X, Y, threshold, distance, barrier=barrier)\n",
    "        gammas += [ot.partial.partial_wasserstein(Xmass, Ymass, cost, m=1, nb_dummies=10)]\n",
    "        \n",
    "    return gammas"
   ]
  },
  {
   "cell_type": "code",
   "execution_count": 13,
   "id": "7a9add38-649e-40ca-91ec-cbc3c52aab28",
   "metadata": {},
   "outputs": [],
   "source": [
    "def update_Y_locations(Xs, Y, gammas):\n",
    "    \"\"\"\n",
    "    update_Y_locations moves the locations of the points in Y to the \n",
    "    centroids of the mass being assigned to them\n",
    "    \n",
    "    :param Xs: list of dataset points\n",
    "    :param Y: second dataset of points to be updated\n",
    "    :param gammas: partial couplings\n",
    "    :return: updated locations as well as the updated mass assignments\n",
    "    \"\"\"\n",
    "    \n",
    "    # gets the amount of mass assigned to every point summed over\n",
    "    # all of the classes\n",
    "    total_assignment = np.sum(gammas, axis=(0,1))\n",
    "    \n",
    "    # shifts each point used in Y to the average of the points using it\n",
    "    centroids = np.zeros(Y.shape)\n",
    "    for (X,gamma) in zip(Xs, gammas):\n",
    "        centroids += gamma.T @ X\n",
    "    centroids /= total_assignment[:,np.newaxis] + 0.00000001\n",
    "    \n",
    "    # finds how much mass must be placed on each point in order that\n",
    "    # Y dominates the transformed Xs\n",
    "    dominating_mass = np.max(np.sum(gammas, axis=1), axis=0)\n",
    "    \n",
    "    # removes unused points \n",
    "    centroids = centroids[total_assignment > 0]\n",
    "    dominating_mass = dominating_mass[total_assignment > 0]\n",
    "    \n",
    "    return centroids, dominating_mass"
   ]
  },
  {
   "cell_type": "code",
   "execution_count": 14,
   "id": "fb377033-c8cf-4c82-9456-bd5991ee32ec",
   "metadata": {},
   "outputs": [],
   "source": [
    "def generate_initial_Y(Xs, npoints=40):\n",
    "    \"\"\"\n",
    "    generate_initial_Y creates a reasonable set of starting points for the \n",
    "    adversary to work from.\n",
    "    \n",
    "    :param Xs: list of dataset points\n",
    "    :param npoints: number of support points\n",
    "    \"\"\"\n",
    "    \n",
    "    # number of classes and dimension of data\n",
    "    K = len(Xs)\n",
    "    d = Xs[0].shape[1]\n",
    "    \n",
    "    # generates random coordinates to start from\n",
    "    alpha = np.ones(K)\n",
    "    coords = dirichlet.rvs(alpha, size=npoints)\n",
    "    \n",
    "    # each point in Y is a random convex combination of real data points\n",
    "    Y = np.zeros((npoints, d))\n",
    "    for i in range(npoints):\n",
    "        for k in range(K):\n",
    "            Y[i,:] += coords[i,k] * Xs[k][np.random.randint(Xs[k].shape[0]),:]\n",
    "    \n",
    "    return Y"
   ]
  },
  {
   "cell_type": "code",
   "execution_count": 15,
   "id": "56b409ff-d4da-4881-93c6-6137f0b20bf3",
   "metadata": {},
   "outputs": [
    {
     "data": {
      "image/png": "[encoded data removed]",
      "text/plain": [
       "<Figure size 432x288 with 1 Axes>"
      ]
     },
     "metadata": {
      "needs_background": "light"
     },
     "output_type": "display_data"
    }
   ],
   "source": [
    "n = 12\n",
    "linspace = np.arange(n)\n",
    "circle = np.vstack([np.cos(linspace / n * 2 * np.pi), np.sin(linspace / n * 2 * np.pi)]).T\n",
    "data = [\n",
    "    circle + np.array([-0.6,-0.6]),\n",
    "    circle + np.array([0.6,-0.6]),\n",
    "    circle + np.array([0.6,0.6]),\n",
    "    circle + np.array([-0.6,0.6]),\n",
    "]\n",
    "for d in data:\n",
    "    plt.scatter(d[:,0],d[:,1])"
   ]
  },
  {
   "cell_type": "code",
   "execution_count": 16,
   "id": "9858d2e1-95a1-4516-a392-892952a43b62",
   "metadata": {},
   "outputs": [
    {
     "data": {
      "text/plain": [
       "<matplotlib.collections.PathCollection at 0x7f85a8025210>"
      ]
     },
     "execution_count": 16,
     "metadata": {},
     "output_type": "execute_result"
    },
    {
     "data": {
      "image/png": "[encoded data removed]",
      "text/plain": [
       "<Figure size 432x288 with 1 Axes>"
      ]
     },
     "metadata": {
      "needs_background": "light"
     },
     "output_type": "display_data"
    }
   ],
   "source": [
    "npoints = 40\n",
    "barrier = 3\n",
    "\n",
    "K = len(data)\n",
    "Y = generate_initial_Y(data, npoints=npoints)\n",
    "Ymass = np.ones(npoints) / npoints * K \n",
    "\n",
    "for d in data:\n",
    "    plt.scatter(d[:,0],d[:,1])\n",
    "plt.scatter(Y[:,0], Y[:,1])\n"
   ]
  },
  {
   "cell_type": "code",
   "execution_count": 22,
   "id": "f4508233-fa95-4294-b350-35c649f6ebca",
   "metadata": {},
   "outputs": [
    {
     "data": {
      "text/plain": [
       "<matplotlib.collections.PathCollection at 0x7f85faf31610>"
      ]
     },
     "execution_count": 22,
     "metadata": {},
     "output_type": "execute_result"
    },
    {
     "data": {
      "image/png": "[encoded data removed]",
      "text/plain": [
       "<Figure size 432x288 with 1 Axes>"
      ]
     },
     "metadata": {
      "needs_background": "light"
     },
     "output_type": "display_data"
    }
   ],
   "source": [
    "prev_Y = Y\n",
    "gammas = solve_partial_ots(data, Y, Ymass, 1.5, euclidean, barrier=barrier)\n",
    "Y,Ymass = update_Y_locations(data, Y, gammas)\n",
    "\n",
    "for d in data:\n",
    "    plt.scatter(d[:,0],d[:,1])\n",
    "plt.scatter(Y[:,0], Y[:,1])"
   ]
  },
  {
   "cell_type": "code",
   "execution_count": null,
   "id": "6f5d232c-90f8-4ba5-adb7-87df692b86fa",
   "metadata": {},
   "outputs": [],
   "source": []
  },
  {
   "cell_type": "code",
   "execution_count": null,
   "id": "2a51676f-5341-4c7b-aebd-5910a13279bc",
   "metadata": {},
   "outputs": [],
   "source": []
  }
 ],
 "metadata": {
  "kernelspec": {
   "display_name": "Python 3 (ipykernel)",
   "language": "python",
   "name": "python3"
  },
  "language_info": {
   "codemirror_mode": {
    "name": "ipython",
    "version": 3
   },
   "file_extension": ".py",
   "mimetype": "text/x-python",
   "name": "python",
   "nbconvert_exporter": "python",
   "pygments_lexer": "ipython3",
   "version": "3.7.13"
  }
 },
 "nbformat": 4,
 "nbformat_minor": 5
}
